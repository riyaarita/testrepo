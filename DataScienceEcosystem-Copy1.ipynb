{
 "cells": [
  {
   "cell_type": "markdown",
   "id": "593da015",
   "metadata": {},
   "source": [
    "# Data Science Tools and Ecosystem"
   ]
  },
  {
   "cell_type": "markdown",
   "id": "bf4697ac",
   "metadata": {},
   "source": [
    "### In this notebook, Data Science Tools and Ecosystem are summarized."
   ]
  },
  {
   "cell_type": "markdown",
   "id": "15f37e26",
   "metadata": {},
   "source": [
    "### most popular data science languages that are used\n",
    "\n",
    "-python\n",
    "-scala\n",
    "-R\n",
    "-java"
   ]
  },
  {
   "cell_type": "markdown",
   "id": "5acea17b",
   "metadata": {},
   "source": [
    "### most popular data science languages that are used\n",
    "\n",
    "- python\n",
    "- scala\n",
    "- R\n",
    "- java"
   ]
  },
  {
   "cell_type": "markdown",
   "id": "364049cd",
   "metadata": {},
   "source": [
    "[1]. python\n",
    "[2]. scala\n",
    "[3]. R"
   ]
  },
  {
   "cell_type": "markdown",
   "id": "cee5ee3b",
   "metadata": {},
   "source": [
    "[1].python.\n",
    "[1].python.\n",
    "[1].python."
   ]
  },
  {
   "cell_type": "markdown",
   "id": "05267470",
   "metadata": {},
   "source": [
    "languages used for data science:    \n",
    "1. python\n",
    "2. scala\n",
    "3. R"
   ]
  },
  {
   "cell_type": "markdown",
   "id": "2e4bc0bc",
   "metadata": {},
   "source": [
    "data science libraries that are mostly used\n",
    "\n",
    "1. numpy\n",
    "2. pandas \n",
    "3. keras \n",
    "4. matplotlib"
   ]
  },
  {
   "cell_type": "markdown",
   "id": "2f5263f2",
   "metadata": {},
   "source": [
    "|DATA SCIENCE|\n",
    "|jupyter notebook|\n",
    "|github|\n",
    "|watson studio|"
   ]
  },
  {
   "cell_type": "markdown",
   "id": "7e7ebe5c",
   "metadata": {},
   "source": [
    "|DATA SCIENCE|\n",
    "|:---------------:|\n",
    "|jupyter notebook|\n",
    "|github|\n",
    "|watson studio|"
   ]
  },
  {
   "cell_type": "markdown",
   "id": "161f16e6",
   "metadata": {},
   "source": [
    "|DATA SCIENCE|\n",
    "|:---------------|\n",
    "|jupyter notebook|\n",
    "|github|\n",
    "|watson studio|"
   ]
  },
  {
   "cell_type": "markdown",
   "id": "e7a1aec7",
   "metadata": {},
   "source": [
    "### Below are a few examples of evaluating arithmetic expressions in Python"
   ]
  },
  {
   "cell_type": "code",
   "execution_count": 1,
   "id": "a807307a",
   "metadata": {},
   "outputs": [
    {
     "ename": "TypeError",
     "evalue": "can only concatenate str (not \"int\") to str",
     "output_type": "error",
     "traceback": [
      "\u001b[1;31m---------------------------------------------------------------------------\u001b[0m",
      "\u001b[1;31mTypeError\u001b[0m                                 Traceback (most recent call last)",
      "Cell \u001b[1;32mIn[1], line 1\u001b[0m\n\u001b[1;32m----> 1\u001b[0m \u001b[38;5;28mprint\u001b[39m(\u001b[38;5;124;43m\"\u001b[39;49m\u001b[38;5;124;43m3*4\u001b[39;49m\u001b[38;5;124;43m\"\u001b[39;49m\u001b[38;5;241;43m+\u001b[39;49m\u001b[38;5;241;43m5\u001b[39;49m)\n",
      "\u001b[1;31mTypeError\u001b[0m: can only concatenate str (not \"int\") to str"
     ]
    }
   ],
   "source": [
    "print(\"3*4\"+5)"
   ]
  },
  {
   "cell_type": "code",
   "execution_count": 2,
   "id": "4f3023c9",
   "metadata": {},
   "outputs": [
    {
     "ename": "SyntaxError",
     "evalue": "invalid syntax (3720940789.py, line 1)",
     "output_type": "error",
     "traceback": [
      "\u001b[1;36m  Cell \u001b[1;32mIn[2], line 1\u001b[1;36m\u001b[0m\n\u001b[1;33m    int a=3\u001b[0m\n\u001b[1;37m        ^\u001b[0m\n\u001b[1;31mSyntaxError\u001b[0m\u001b[1;31m:\u001b[0m invalid syntax\n"
     ]
    }
   ],
   "source": [
    "int a=3\n",
    "int b=4\n",
    "int c=5\n",
    "int result=(3*4)+5\n",
    "print(\"result\")"
   ]
  },
  {
   "cell_type": "code",
   "execution_count": 4,
   "id": "880a28d3",
   "metadata": {},
   "outputs": [
    {
     "name": "stdout",
     "output_type": "stream",
     "text": [
      "result\n"
     ]
    }
   ],
   "source": [
    "a=3\n",
    "b=4\n",
    "c=5\n",
    "result=(a*b)+c\n",
    "print(\"result\")"
   ]
  },
  {
   "cell_type": "code",
   "execution_count": 5,
   "id": "68863de3",
   "metadata": {},
   "outputs": [
    {
     "name": "stdout",
     "output_type": "stream",
     "text": [
      "17\n"
     ]
    }
   ],
   "source": [
    "a=3\n",
    "b=4\n",
    "c=5\n",
    "result=(a*b)+c\n",
    "print(result)"
   ]
  },
  {
   "cell_type": "code",
   "execution_count": 9,
   "id": "6b327565",
   "metadata": {},
   "outputs": [
    {
     "name": "stdout",
     "output_type": "stream",
     "text": [
      "3:20\n"
     ]
    }
   ],
   "source": [
    "total_minutes = 200\n",
    "\n",
    "# Get hours with floor division\n",
    "hours = total_minutes // 60\n",
    "\n",
    "# Get additional minutes with modulus\n",
    "minutes = total_minutes % 60\n",
    "\n",
    "# Create time as a string\n",
    "time = \"{}hrs:{}mins\".format(hours, minutes)\n",
    "\n",
    "print(time)"
   ]
  },
  {
   "cell_type": "code",
   "execution_count": 1,
   "id": "cb4d3f5e",
   "metadata": {},
   "outputs": [
    {
     "name": "stdout",
     "output_type": "stream",
     "text": [
      "3hrs:20mins\n"
     ]
    }
   ],
   "source": [
    "total_minutes = 200\n",
    "\n",
    "# Get hours with floor division\n",
    "hours = total_minutes // 60\n",
    "\n",
    "# Get additional minutes with modulus\n",
    "minutes = total_minutes % 60\n",
    "\n",
    "# Create time as a string\n",
    "time = \"{}hrs:{}mins\".format(hours, minutes)\n",
    "\n",
    "print(time)"
   ]
  },
  {
   "cell_type": "markdown",
   "id": "75978c78",
   "metadata": {},
   "source": [
    "## Author\n",
    "\n",
    "Priyadharshini.P"
   ]
  },
  {
   "cell_type": "code",
   "execution_count": null,
   "id": "b621e74d",
   "metadata": {},
   "outputs": [],
   "source": []
  }
 ],
 "metadata": {
  "kernelspec": {
   "display_name": "Python 3 (ipykernel)",
   "language": "python",
   "name": "python3"
  },
  "language_info": {
   "codemirror_mode": {
    "name": "ipython",
    "version": 3
   },
   "file_extension": ".py",
   "mimetype": "text/x-python",
   "name": "python",
   "nbconvert_exporter": "python",
   "pygments_lexer": "ipython3",
   "version": "3.11.2"
  }
 },
 "nbformat": 4,
 "nbformat_minor": 5
}
